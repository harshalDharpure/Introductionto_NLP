{
  "nbformat": 4,
  "nbformat_minor": 0,
  "metadata": {
    "colab": {
      "name": "lemmatization.ipynb",
      "provenance": []
    },
    "kernelspec": {
      "name": "python3",
      "display_name": "Python 3"
    },
    "language_info": {
      "name": "python"
    }
  },
  "cells": [
    {
      "cell_type": "code",
      "metadata": {
        "colab": {
          "base_uri": "https://localhost:8080/"
        },
        "id": "59yvqgJ7hlTc",
        "outputId": "fb19913b-5b0d-489a-f712-60576131d07c"
      },
      "source": [
        "import nltk\n",
        "nltk.download(\"wordnet\")"
      ],
      "execution_count": 1,
      "outputs": [
        {
          "output_type": "stream",
          "name": "stdout",
          "text": [
            "[nltk_data] Downloading package wordnet to /root/nltk_data...\n",
            "[nltk_data]   Unzipping corpora/wordnet.zip.\n"
          ]
        },
        {
          "output_type": "execute_result",
          "data": {
            "text/plain": [
              "True"
            ]
          },
          "metadata": {},
          "execution_count": 1
        }
      ]
    },
    {
      "cell_type": "code",
      "metadata": {
        "id": "A6Lu5_ibh7GD"
      },
      "source": [
        "from nltk.stem import WordNetLemmatizer\n",
        "lemmatizer = WordNetLemmatizer()"
      ],
      "execution_count": 3,
      "outputs": []
    },
    {
      "cell_type": "code",
      "metadata": {
        "colab": {
          "base_uri": "https://localhost:8080/"
        },
        "id": "LfRnV2DSiW1C",
        "outputId": "610ea163-839c-415c-8896-9634edc3e60b"
      },
      "source": [
        "print(lemmatizer.lemmatize(\"puppies\"))\n",
        "print(lemmatizer.lemmatize(\"wolves\"))\n",
        "print(lemmatizer.lemmatize(\"churces\"))\n",
        "print(lemmatizer.lemmatize(\"people\"))"
      ],
      "execution_count": 4,
      "outputs": [
        {
          "output_type": "stream",
          "name": "stdout",
          "text": [
            "puppy\n",
            "wolf\n",
            "churces\n",
            "people\n"
          ]
        }
      ]
    },
    {
      "cell_type": "code",
      "metadata": {
        "colab": {
          "base_uri": "https://localhost:8080/"
        },
        "id": "t5tR2i_8jGwQ",
        "outputId": "8795465d-78ba-46e4-e5a9-85c3c1ec52c6"
      },
      "source": [
        "print(lemmatizer.lemmatize(\"better\",pos=\"a\"))\n",
        "print(lemmatizer.lemmatize(\"best\",pos=\"a\"))"
      ],
      "execution_count": 5,
      "outputs": [
        {
          "output_type": "stream",
          "name": "stdout",
          "text": [
            "good\n",
            "best\n"
          ]
        }
      ]
    },
    {
      "cell_type": "code",
      "metadata": {
        "id": "FD_p-OLNjcRn"
      },
      "source": [
        ""
      ],
      "execution_count": null,
      "outputs": []
    }
  ]
}