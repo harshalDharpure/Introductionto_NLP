{
  "nbformat": 4,
  "nbformat_minor": 0,
  "metadata": {
    "colab": {
      "name": "stemming.ipynb",
      "provenance": []
    },
    "kernelspec": {
      "name": "python3",
      "display_name": "Python 3"
    },
    "language_info": {
      "name": "python"
    }
  },
  "cells": [
    {
      "cell_type": "code",
      "metadata": {
        "colab": {
          "base_uri": "https://localhost:8080/"
        },
        "id": "HyoBfNg4oBx_",
        "outputId": "b2d89116-776e-4eb1-f179-e8f4d6d32903"
      },
      "source": [
        "import nltk\n",
        "nltk.download('stem')\n",
        "nltk.download('punkt')\n",
        "from nltk.stem import PorterStemmer\n",
        "from nltk.tokenize import word_tokenize"
      ],
      "execution_count": 6,
      "outputs": [
        {
          "output_type": "stream",
          "name": "stdout",
          "text": [
            "[nltk_data] Error loading stem: Package 'stem' not found in index\n",
            "[nltk_data] Downloading package punkt to /root/nltk_data...\n",
            "[nltk_data]   Unzipping tokenizers/punkt.zip.\n"
          ]
        }
      ]
    },
    {
      "cell_type": "code",
      "metadata": {
        "id": "lr9mOQnCoXQ-"
      },
      "source": [
        "ps=PorterStemmer()"
      ],
      "execution_count": 3,
      "outputs": []
    },
    {
      "cell_type": "code",
      "metadata": {
        "colab": {
          "base_uri": "https://localhost:8080/"
        },
        "id": "_FMZemYToaK4",
        "outputId": "743c12ee-5194-4001-f007-5784e9a075d0"
      },
      "source": [
        "sample_words = [\"legal\", \"illegal\", \"legalize\", \"legally\"]\n",
        "for word in sample_words:\n",
        "  print(ps.stem(word))"
      ],
      "execution_count": 4,
      "outputs": [
        {
          "output_type": "stream",
          "name": "stdout",
          "text": [
            "legal\n",
            "illeg\n",
            "legal\n",
            "legal\n"
          ]
        }
      ]
    },
    {
      "cell_type": "code",
      "metadata": {
        "id": "kM95NMpxorQa",
        "colab": {
          "base_uri": "https://localhost:8080/"
        },
        "outputId": "4e9051b4-6e94-41e1-ddbe-bf024c3b8aed"
      },
      "source": [
        "sample_text = \"It is illegal to take a U-turn in the middle of the highway. If you do, the police will take legal \" \\\n",
        "              \"action against the driver. Make sure to follow the road rules legally when driving\"\n",
        "\n",
        "tokenized_words = word_tokenize(sample_text)\n",
        "for word in tokenized_words:\n",
        "    print(ps.stem(word))"
      ],
      "execution_count": 7,
      "outputs": [
        {
          "output_type": "stream",
          "name": "stdout",
          "text": [
            "It\n",
            "is\n",
            "illeg\n",
            "to\n",
            "take\n",
            "a\n",
            "u-turn\n",
            "in\n",
            "the\n",
            "middl\n",
            "of\n",
            "the\n",
            "highway\n",
            ".\n",
            "If\n",
            "you\n",
            "do\n",
            ",\n",
            "the\n",
            "polic\n",
            "will\n",
            "take\n",
            "legal\n",
            "action\n",
            "against\n",
            "the\n",
            "driver\n",
            ".\n",
            "make\n",
            "sure\n",
            "to\n",
            "follow\n",
            "the\n",
            "road\n",
            "rule\n",
            "legal\n",
            "when\n",
            "drive\n"
          ]
        }
      ]
    }
  ]
}