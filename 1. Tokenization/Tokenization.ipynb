{
  "nbformat": 4,
  "nbformat_minor": 0,
  "metadata": {
    "colab": {
      "name": "Tokenization.ipynb",
      "provenance": []
    },
    "kernelspec": {
      "name": "python3",
      "display_name": "Python 3"
    },
    "language_info": {
      "name": "python"
    }
  },
  "cells": [
    {
      "cell_type": "code",
      "metadata": {
        "colab": {
          "base_uri": "https://localhost:8080/"
        },
        "id": "1MqmNhYDfDGc",
        "outputId": "b213e6e3-f0f3-4855-ae8b-bca24a597074"
      },
      "source": [
        "import nltk\n",
        "nltk.download('punkt')"
      ],
      "execution_count": 1,
      "outputs": [
        {
          "output_type": "stream",
          "name": "stdout",
          "text": [
            "[nltk_data] Downloading package punkt to /root/nltk_data...\n",
            "[nltk_data]   Unzipping tokenizers/punkt.zip.\n"
          ]
        },
        {
          "output_type": "execute_result",
          "data": {
            "text/plain": [
              "True"
            ]
          },
          "metadata": {},
          "execution_count": 1
        }
      ]
    },
    {
      "cell_type": "code",
      "metadata": {
        "id": "_X2eYr-SfLEJ"
      },
      "source": [
        "from nltk.tokenize import sent_tokenize,word_tokenize\n",
        "text=\"Hello I am mr. bean do you want to learn Natural Language Processing\"\n"
      ],
      "execution_count": 2,
      "outputs": []
    },
    {
      "cell_type": "code",
      "metadata": {
        "colab": {
          "base_uri": "https://localhost:8080/"
        },
        "id": "1zpFLOVZfjKS",
        "outputId": "41b17d0b-4894-4936-8ed4-be493acda4ac"
      },
      "source": [
        "print(\"tokenized_sentences\")\n",
        "tokenized_sentences=sent_tokenize(text)\n",
        "for sentence in tokenized_sentences:\n",
        "  print(sentence)"
      ],
      "execution_count": 3,
      "outputs": [
        {
          "output_type": "stream",
          "name": "stdout",
          "text": [
            "tokenized_sentences\n",
            "Hello I am mr. bean do you want to learn Natural Language Processing\n"
          ]
        }
      ]
    },
    {
      "cell_type": "code",
      "metadata": {
        "colab": {
          "base_uri": "https://localhost:8080/"
        },
        "id": "7pdejgE-f06m",
        "outputId": "04b66340-37eb-4124-d085-102e1b207026"
      },
      "source": [
        "print(\"tokenized_words\")\n",
        "tokenized_words=word_tokenize(text)\n",
        "for words in tokenized_words:\n",
        "  print(words)"
      ],
      "execution_count": 4,
      "outputs": [
        {
          "output_type": "stream",
          "name": "stdout",
          "text": [
            "tokenized_words\n",
            "Hello\n",
            "I\n",
            "am\n",
            "mr.\n",
            "bean\n",
            "do\n",
            "you\n",
            "want\n",
            "to\n",
            "learn\n",
            "Natural\n",
            "Language\n",
            "Processing\n"
          ]
        }
      ]
    },
    {
      "cell_type": "code",
      "metadata": {
        "id": "BuB-aNbogGyU"
      },
      "source": [
        ""
      ],
      "execution_count": null,
      "outputs": []
    }
  ]
}